{
 "cells": [
  {
   "cell_type": "markdown",
   "id": "loving-giant",
   "metadata": {},
   "source": [
    "# Rješavanje problema trgovačkog putnika koristeći genetički algoritam"
   ]
  },
  {
   "cell_type": "markdown",
   "id": "cubic-wednesday",
   "metadata": {},
   "source": [
    "### Nešt o trgovačkom putniku"
   ]
  },
  {
   "cell_type": "markdown",
   "id": "lesser-purple",
   "metadata": {},
   "source": [
    "Korišteni moduli"
   ]
  },
  {
   "cell_type": "code",
   "execution_count": 2,
   "id": "severe-childhood",
   "metadata": {},
   "outputs": [],
   "source": [
    "import numpy as np\n",
    "import random\n",
    "import math\n",
    "import networkx as nx #možda staviti poslije\n",
    "import pandas as pd #možda staviti na kraj\n",
    "import matplotlib.pyplot as plt #možda poslije"
   ]
  },
  {
   "cell_type": "markdown",
   "id": "junior-american",
   "metadata": {},
   "source": [
    "Klasa Map koja predstavlja graf s gradovima"
   ]
  },
  {
   "cell_type": "code",
   "execution_count": null,
   "id": "obvious-berlin",
   "metadata": {},
   "outputs": [],
   "source": [
    "class Map():\n",
    "    def __init__(self, n):\n",
    "        self.num_of_cities = n\n",
    "        self.xy = np.empty((n,2))\n",
    "        for i in range(n):\n",
    "            self.xy[i] = random.randint(0, 500), random.randint(0,500)\n",
    "        self.distances = self.calculate_distances()\n",
    "        \n",
    "\n",
    "    def calculate_distances():\n",
    "        distances = np.empty((self.num_of_cities, self.num_of_cities))\n",
    "        for i in range(self.num_of_cities):\n",
    "            p = self.xy[i]\n",
    "            for j in range(self.num_of_cities):\n",
    "                q = self.xy[j]\n",
    "                distances[i][j] = math.dist(p,q)\n",
    "        return distances\n",
    "    \n",
    "    def draw_graph():\n",
    "\n",
    "    def draw_coordinate():"
   ]
  },
  {
   "cell_type": "markdown",
   "id": "promising-subscription",
   "metadata": {},
   "source": [
    "Inicijalizacija mape"
   ]
  },
  {
   "cell_type": "code",
   "execution_count": null,
   "id": "martial-bacteria",
   "metadata": {},
   "outputs": [],
   "source": [
    "map = Map(50)\n",
    "map.draw_graph()\n",
    "map.draw_coordinates()"
   ]
  },
  {
   "cell_type": "markdown",
   "id": "stone-cleaners",
   "metadata": {},
   "source": [
    "### Gen algoritam\n",
    "Stavljam kod kak objašnjavam algoritam"
   ]
  },
  {
   "cell_type": "markdown",
   "id": "through-swiss",
   "metadata": {},
   "source": [
    "#### Populacija i jedinke"
   ]
  },
  {
   "cell_type": "markdown",
   "id": "editorial-offering",
   "metadata": {},
   "source": [
    "Klasa ruta"
   ]
  },
  {
   "cell_type": "markdown",
   "id": "extensive-greenhouse",
   "metadata": {},
   "source": [
    "Inicijalizacija populacije"
   ]
  },
  {
   "cell_type": "markdown",
   "id": "brutal-bernard",
   "metadata": {},
   "source": [
    "#### Selection"
   ]
  },
  {
   "cell_type": "markdown",
   "id": "retired-humanitarian",
   "metadata": {},
   "source": [
    "roulette wheel, slika (od zmije)"
   ]
  },
  {
   "cell_type": "code",
   "execution_count": null,
   "id": "industrial-county",
   "metadata": {},
   "outputs": [],
   "source": [
    "def select_parent(population):\n",
    "    rand = random.randint(0, population.fitness)\n",
    "        sum = 0\n",
    "        for i in range(population.num_of_routes):\n",
    "            sum += population.routes[i].fitness\n",
    "            if sum >= rand:\n",
    "                return population.routes[i]"
   ]
  },
  {
   "cell_type": "markdown",
   "id": "superb-biography",
   "metadata": {},
   "source": [
    "#### Crossover"
   ]
  },
  {
   "cell_type": "markdown",
   "id": "three-winter",
   "metadata": {},
   "source": [
    "napraviti sliku"
   ]
  },
  {
   "cell_type": "code",
   "execution_count": null,
   "id": "criminal-helen",
   "metadata": {},
   "outputs": [],
   "source": [
    "def crossover(parent1, parent2):\n",
    "        child = Route(num_of_cities, self.map)\n",
    "        gene1 = random.randint(0, num_of_cities)\n",
    "        gene2 = random.randint(0, num_of_cities)\n",
    "\n",
    "        start = min(gene1, gene2)\n",
    "        end = max(gene1, gene2) + 1\n",
    "\n",
    "        child.path[start:end] = parent1.path[start:end]\n",
    "        \n",
    "        for gene in parent2.path:\n",
    "            if gene not in child.path: #?????\n",
    "                child.path[i] = gene\n",
    "                i += 1\n",
    "        return child"
   ]
  },
  {
   "cell_type": "markdown",
   "id": "empty-poland",
   "metadata": {},
   "source": [
    "#### Mutacija"
   ]
  },
  {
   "cell_type": "markdown",
   "id": "coated-conjunction",
   "metadata": {},
   "source": []
  },
  {
   "cell_type": "code",
   "execution_count": null,
   "id": "bigger-drunk",
   "metadata": {},
   "outputs": [],
   "source": [
    "def mutate(route, mutation_ratre): \n",
    "        for i in range(route.num_of_cities):\n",
    "            if random.random() < mutation_rate:\n",
    "                j = random.randrange(0, route.num_of_cities)\n",
    "                route.path[i], route.path[j] = route.path[j], route.path[i]"
   ]
  },
  {
   "cell_type": "markdown",
   "id": "fantastic-portable",
   "metadata": {},
   "source": [
    "Cijeli gen algoritam"
   ]
  },
  {
   "cell_type": "code",
   "execution_count": null,
   "id": "harmful-tablet",
   "metadata": {},
   "outputs": [],
   "source": [
    "def geneticAlgorithm(population, mutation_rate):\n",
    "    population.calcFitness()\n",
    "    population.find_best_route()\n",
    "    new_routes = [population.best_route]\n",
    "    for i in range(self.num_of_routes):\n",
    "        parent1 = self.select_parent()\n",
    "        parent2 = self.select_parent()\n",
    "        child = self.crossover(parent1, parent2)\n",
    "        child.mutate()\n",
    "        new_routes.append(child)\n",
    "    return new_routes"
   ]
  },
  {
   "cell_type": "markdown",
   "id": "exposed-chocolate",
   "metadata": {},
   "source": [
    "Main funkcija"
   ]
  },
  {
   "cell_type": "code",
   "execution_count": null,
   "id": "stunning-store",
   "metadata": {},
   "outputs": [],
   "source": [
    "def travel(num_of_routes, mutation_rate, num_of_generations, map):\n",
    "    population = Population(num_of_routes, map.num_of_cities)\n",
    "    \n",
    "    for i in range(num_of_generations):\n",
    "        population.routes = geneticAlgorithm(population, mutation_rate)\n",
    "        population.fitness = 0\n",
    "         #možda iscrtaj svaku iteraciju???\n",
    "    population.draw_distances_in_generation() \n",
    "    #iscrtaj put na grafu, ispiši duljinu\n",
    "    "
   ]
  },
  {
   "cell_type": "markdown",
   "id": "interpreted-particle",
   "metadata": {},
   "source": [
    "Pokretanje"
   ]
  },
  {
   "cell_type": "code",
   "execution_count": null,
   "id": "necessary-approach",
   "metadata": {},
   "outputs": [],
   "source": [
    "travel(100, 0.1, 500) #dodati widgetse"
   ]
  },
  {
   "cell_type": "markdown",
   "id": "lovely-session",
   "metadata": {},
   "source": [
    "Primjer sa stvarnim gradovima i koordinatama"
   ]
  },
  {
   "cell_type": "markdown",
   "id": "progressive-process",
   "metadata": {},
   "source": [
    "# Bibliografija\n",
    "1. https://www.theprojectspot.com/tutorial-post/applying-a-genetic-algorithm-to-the-travelling-salesman-problem/5\n",
    "2. https://simplemaps.com/data/world-cities\n",
    "3. ono kaj sam imala za zmiju"
   ]
  }
 ],
 "metadata": {
  "kernelspec": {
   "display_name": "Python 3",
   "language": "python",
   "name": "python3"
  },
  "language_info": {
   "codemirror_mode": {
    "name": "ipython",
    "version": 3
   },
   "file_extension": ".py",
   "mimetype": "text/x-python",
   "name": "python",
   "nbconvert_exporter": "python",
   "pygments_lexer": "ipython3",
   "version": "3.7.10"
  }
 },
 "nbformat": 4,
 "nbformat_minor": 5
}
