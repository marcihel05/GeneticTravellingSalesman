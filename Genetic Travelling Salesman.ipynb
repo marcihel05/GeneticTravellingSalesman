{
 "cells": [
  {
   "cell_type": "markdown",
   "id": "loving-giant",
   "metadata": {},
   "source": [
    "# Rješavanje problema trgovačkog putnika koristeći genetički algoritam"
   ]
  },
  {
   "cell_type": "markdown",
   "id": "durable-outline",
   "metadata": {},
   "source": [
    "### Nešt o trgovačkom putniku"
   ]
  },
  {
   "cell_type": "markdown",
   "id": "restricted-range",
   "metadata": {},
   "source": [
    "Korišteni moduli"
   ]
  },
  {
   "cell_type": "code",
   "execution_count": 2,
   "id": "handy-status",
   "metadata": {},
   "outputs": [],
   "source": [
    "import numpy as np\n",
    "import random\n",
    "import math\n",
    "import networkx as nx #možda staviti poslije\n",
    "import pandas as pd #možda staviti na kraj\n",
    "import matplotlib.pyplot as plt #možda poslije"
   ]
  },
  {
   "cell_type": "markdown",
   "id": "executive-egypt",
   "metadata": {},
   "source": [
    "Klasa Map koja predstavlja graf s gradovima"
   ]
  },
  {
   "cell_type": "code",
   "execution_count": null,
   "id": "determined-iceland",
   "metadata": {},
   "outputs": [],
   "source": [
    "class Map():\n",
    "    def __init__(self, n):\n",
    "        self.num_of_cities = n\n",
    "        self.xy = np.empty((n,2))\n",
    "        for i in range(n):\n",
    "            self.xy[i] = random.randint(0, 500), random.randint(0,500)\n",
    "        self.distances = self.calculate_distances()\n",
    "        \n",
    "\n",
    "    def calculate_distances():\n",
    "        distances = np.empty((self.num_of_cities, self.num_of_cities))\n",
    "        for i in range(self.num_of_cities):\n",
    "            p = self.xy[i]\n",
    "            for j in range(self.num_of_cities):\n",
    "                q = self.xy[j]\n",
    "                distances[i][j] = math.dist(p,q)\n",
    "        return distances\n",
    "    \n",
    "    def draw_graph():\n",
    "\n",
    "    def draw_coordinate():"
   ]
  },
  {
   "cell_type": "markdown",
   "id": "outside-november",
   "metadata": {},
   "source": [
    "Inicijalizacija mape"
   ]
  },
  {
   "cell_type": "code",
   "execution_count": null,
   "id": "compressed-watch",
   "metadata": {},
   "outputs": [],
   "source": [
    "map = Map(50)\n",
    "map.draw_graph()\n",
    "map.draw_coordinates()"
   ]
  },
  {
   "cell_type": "markdown",
   "id": "further-constant",
   "metadata": {},
   "source": [
    "### Gen algoritam\n",
    "Stavljam kod kak objašnjavam algoritam"
   ]
  },
  {
   "cell_type": "markdown",
   "id": "swiss-benjamin",
   "metadata": {},
   "source": [
    "#### Populacija i jedinke"
   ]
  },
  {
   "cell_type": "markdown",
   "id": "objective-muscle",
   "metadata": {},
   "source": [
    "Klasa ruta"
   ]
  },
  {
   "cell_type": "markdown",
   "id": "informative-sudan",
   "metadata": {},
   "source": [
    "Inicijalizacija populacije"
   ]
  },
  {
   "cell_type": "markdown",
   "id": "intellectual-funds",
   "metadata": {},
   "source": [
    "Fitness funkcija"
   ]
  },
  {
   "cell_type": "code",
   "execution_count": null,
   "id": "physical-floating",
   "metadata": {},
   "outputs": [],
   "source": [
    "def calcFitness(population):\n",
    "    "
   ]
  },
  {
   "cell_type": "markdown",
   "id": "tested-assist",
   "metadata": {},
   "source": [
    "#### Selection"
   ]
  },
  {
   "cell_type": "markdown",
   "id": "dramatic-invitation",
   "metadata": {},
   "source": [
    "roulette wheel, slika (od zmije)"
   ]
  },
  {
   "cell_type": "code",
   "execution_count": null,
   "id": "adverse-kentucky",
   "metadata": {},
   "outputs": [],
   "source": [
    "def select_parent(population):\n",
    "    rand = random.randint(0, population.fitness)\n",
    "        sum = 0\n",
    "        for i in range(population.num_of_routes):\n",
    "            sum += population.routes[i].fitness\n",
    "            if sum >= rand:\n",
    "                return population.routes[i]"
   ]
  },
  {
   "cell_type": "markdown",
   "id": "current-damages",
   "metadata": {},
   "source": [
    "#### Crossover"
   ]
  },
  {
   "cell_type": "markdown",
   "id": "forced-marine",
   "metadata": {},
   "source": [
    "napraviti sliku"
   ]
  },
  {
   "cell_type": "code",
   "execution_count": null,
   "id": "coordinated-kitchen",
   "metadata": {},
   "outputs": [],
   "source": [
    "def crossover(parent1, parent2):\n",
    "        child = Route(num_of_cities, self.map)\n",
    "        gene1 = random.randint(0, num_of_cities)\n",
    "        gene2 = random.randint(0, num_of_cities)\n",
    "\n",
    "        start = min(gene1, gene2)\n",
    "        end = max(gene1, gene2) + 1\n",
    "\n",
    "        child.path[start:end] = parent1.path[start:end]\n",
    "        \n",
    "        for gene in parent2.path:\n",
    "            if gene not in child.path: #?????\n",
    "                child.path[i] = gene\n",
    "                i += 1\n",
    "        return child"
   ]
  },
  {
   "cell_type": "markdown",
   "id": "caroline-briefs",
   "metadata": {},
   "source": [
    "#### Mutacija"
   ]
  },
  {
   "cell_type": "markdown",
   "id": "broken-webcam",
   "metadata": {},
   "source": [
    "stopa mutacije bla bla"
   ]
  },
  {
   "cell_type": "code",
   "execution_count": null,
   "id": "collect-determination",
   "metadata": {},
   "outputs": [],
   "source": [
    "def mutate(route, mutation_ratre): \n",
    "        for i in range(route.num_of_cities):\n",
    "            if random.random() < mutation_rate:\n",
    "                j = random.randrange(0, route.num_of_cities)\n",
    "                route.path[i], route.path[j] = route.path[j], route.path[i]"
   ]
  },
  {
   "cell_type": "markdown",
   "id": "catholic-ladder",
   "metadata": {},
   "source": [
    "#### Cijeli gen algoritam"
   ]
  },
  {
   "cell_type": "code",
   "execution_count": null,
   "id": "japanese-vocabulary",
   "metadata": {},
   "outputs": [],
   "source": [
    "def geneticAlgorithm(population, mutation_rate):\n",
    "    population.calcFitness() #ovo van klase populacija\n",
    "    population.find_best_route()\n",
    "    new_routes = [population.best_route.clone()]\n",
    "    for i in range(self.num_of_routes):\n",
    "        parent1 = select_parent(population) #van populacije\n",
    "        parent2 = select_parent(population)\n",
    "        child = crossover(parent1, parent2)\n",
    "        child = mutate(child)\n",
    "        new_routes.append(child)\n",
    "    return new_routes"
   ]
  },
  {
   "cell_type": "markdown",
   "id": "false-decline",
   "metadata": {},
   "source": [
    "Main funkcija"
   ]
  },
  {
   "cell_type": "code",
   "execution_count": null,
   "id": "capable-means",
   "metadata": {},
   "outputs": [],
   "source": [
    "def travel(num_of_routes, mutation_rate, num_of_generations, map):\n",
    "    population = Population(num_of_routes, map.num_of_cities)\n",
    "    \n",
    "    for i in range(num_of_generations):\n",
    "        population.routes = geneticAlgorithm(population, mutation_rate)\n",
    "         #možda iscrtaj svaku iteraciju (svaku 50 ili 10 ili ...)???\n",
    "    population.draw_distances_in_generation() \n",
    "    #iscrtaj put na grafu, ispiši duljinu\n",
    "    "
   ]
  },
  {
   "cell_type": "markdown",
   "id": "swiss-marriage",
   "metadata": {},
   "source": [
    "Pokretanje"
   ]
  },
  {
   "cell_type": "code",
   "execution_count": null,
   "id": "biblical-network",
   "metadata": {},
   "outputs": [],
   "source": [
    "travel(100, 0.1, 500) #dodati widgetse"
   ]
  },
  {
   "cell_type": "markdown",
   "id": "configured-remark",
   "metadata": {},
   "source": [
    "Moji spremljeni i učitani podaci, s npr 5000 generacija (iscrtaj put i graf udaljenosti), ili random ili stvarni podaci ili oboje"
   ]
  },
  {
   "cell_type": "markdown",
   "id": "prompt-scout",
   "metadata": {},
   "source": [
    "Primjer sa stvarnim gradovima i koordinatama (odaberi random gradove, iscrtaj kartu s imenima, graf udaljenosti)"
   ]
  },
  {
   "cell_type": "markdown",
   "id": "negative-knight",
   "metadata": {},
   "source": [
    "# Bibliografija\n",
    "1. https://www.theprojectspot.com/tutorial-post/applying-a-genetic-algorithm-to-the-travelling-salesman-problem/5\n",
    "2. https://simplemaps.com/data/world-cities\n",
    "3. ono kaj sam imala za zmiju"
   ]
  }
 ],
 "metadata": {
  "kernelspec": {
   "display_name": "Python 3",
   "language": "python",
   "name": "python3"
  },
  "language_info": {
   "codemirror_mode": {
    "name": "ipython",
    "version": 3
   },
   "file_extension": ".py",
   "mimetype": "text/x-python",
   "name": "python",
   "nbconvert_exporter": "python",
   "pygments_lexer": "ipython3",
   "version": "3.7.10"
  }
 },
 "nbformat": 4,
 "nbformat_minor": 5
}
