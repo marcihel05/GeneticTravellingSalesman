{
 "cells": [
  {
   "cell_type": "markdown",
   "id": "loving-giant",
   "metadata": {},
   "source": [
    "# Rješavanje problema trgovačkog putnika koristeći genetički algoritam"
   ]
  },
  {
   "cell_type": "markdown",
   "id": "metric-mauritius",
   "metadata": {},
   "source": [
    "### Nešt o trgovačkom putniku"
   ]
  },
  {
   "cell_type": "markdown",
   "id": "synthetic-letter",
   "metadata": {},
   "source": [
    "Korišteni moduli"
   ]
  },
  {
   "cell_type": "code",
   "execution_count": 2,
   "id": "adopted-terrorism",
   "metadata": {},
   "outputs": [],
   "source": [
    "import numpy as np\n",
    "import random\n",
    "import math\n",
    "import networkx as nx #možda staviti poslije\n",
    "import pandas as pd #možda staviti na kraj\n",
    "import matplotlib.pyplot as plt #možda poslije"
   ]
  },
  {
   "cell_type": "markdown",
   "id": "compound-candidate",
   "metadata": {},
   "source": [
    "Klasa Map koja predstavlja graf s gradovima"
   ]
  },
  {
   "cell_type": "code",
   "execution_count": null,
   "id": "military-niger",
   "metadata": {},
   "outputs": [],
   "source": [
    "class Map():\n",
    "    def __init__(self, n):\n",
    "        self.num_of_cities = n\n",
    "        self.xy = np.empty((n,2))\n",
    "        for i in range(n):\n",
    "            self.xy[i] = random.randint(0, 200), random.randint(0,200)\n",
    "        self.distances = self.calculate_distances()\n",
    "        \n",
    "\n",
    "    def calculate_distances():\n",
    "        distances = np.empty((self.num_of_cities, self.num_of_cities))\n",
    "        for i in range(self.num_of_cities):\n",
    "            p = self.xy[i]\n",
    "            for j in range(self.num_of_cities):\n",
    "                q = self.xy[j]\n",
    "                distances[i][j] = math.dist(p,q)\n",
    "        return distances\n",
    "    \n",
    "    def draw_graph():\n",
    "        fig, (ax1, ax2) = plt.subplot()\n",
    "        ax1.set_title('Cities')\n",
    "        ax1.plt.scatter(self.xy[:,0], self.xy[:, 1])\n",
    "        #ax2 je nx graf\n",
    "        fig\n",
    "        "
   ]
  },
  {
   "cell_type": "markdown",
   "id": "corporate-zimbabwe",
   "metadata": {},
   "source": [
    "Inicijalizacija mape"
   ]
  },
  {
   "cell_type": "code",
   "execution_count": null,
   "id": "recreational-permission",
   "metadata": {},
   "outputs": [],
   "source": [
    "map = Map(50)\n",
    "map.draw_graph()"
   ]
  },
  {
   "cell_type": "markdown",
   "id": "lyric-wildlife",
   "metadata": {},
   "source": [
    "### Gen algoritam\n",
    "Stavljam kod kak objašnjavam algoritam"
   ]
  },
  {
   "cell_type": "markdown",
   "id": "cultural-canon",
   "metadata": {},
   "source": [
    "Klasa ruta"
   ]
  },
  {
   "cell_type": "code",
   "execution_count": null,
   "id": "neither-establishment",
   "metadata": {},
   "outputs": [],
   "source": [
    "class Route():\n",
    "    def __init__(self, n, graph):\n",
    "        self.num_of_cities = n\n",
    "        self.fitness = 0\n",
    "        self.distance = 0\n",
    "        self.map = graph\n",
    "        self.path = np.random.permutation(self.num_of_cities)\n",
    "\n",
    "    def calcDistance(self):\n",
    "        for i in range(self.num_of_cities-1):\n",
    "            self.distance += self.map.distances[self.path[i]][self.path[i+1]]\n",
    "        self.distance += self.map.distances[self.path[0]][self.path[self.num_of_cities-1]]\n",
    "\n",
    "    def calcFitness(self):\n",
    "        self.calcDistance()\n",
    "        self.fitness = 1/self.distance * 1000\n",
    "\n",
    "    def clone(self):\n",
    "        new_route = Route(self.num_of_cities, self.map)\n",
    "        new_route.path = self.path\n",
    "        return new_route\n",
    "        "
   ]
  },
  {
   "cell_type": "markdown",
   "id": "distributed-objective",
   "metadata": {},
   "source": [
    "#### Populacija i jedinke"
   ]
  },
  {
   "cell_type": "code",
   "execution_count": null,
   "id": "stainless-hunger",
   "metadata": {},
   "outputs": [],
   "source": [
    "class  Population():\n",
    "    def __init__(self, n, m, map):\n",
    "        self.map = map\n",
    "        self.num_of_routes = n\n",
    "        self.num_of_cities = m\n",
    "        self.routes = []\n",
    "        for i in range(n):\n",
    "            self.routes.append(Route(m,map))\n",
    "        self.fitness = 0\n",
    "        self.best_distance_in_generation = []\n",
    "        self.best_route = \"\"\n",
    "        self.num_of_generation = 1\n",
    "\n",
    "\n",
    "    def find_best_route(self):\n",
    "        best_route = self.routes[0]\n",
    "        for route in self.routes:\n",
    "            if best_route.fitness < route.fitness:\n",
    "                best_route = route\n",
    "        self.best_distance_in_generation.append(best_route.distance)\n",
    "        self.best_route = best_route.clone()\n",
    "        self.best_route.distance = best_route.distance"
   ]
  },
  {
   "cell_type": "markdown",
   "id": "coral-palestine",
   "metadata": {},
   "source": [
    "Fitness funkcija"
   ]
  },
  {
   "cell_type": "code",
   "execution_count": null,
   "id": "parental-guitar",
   "metadata": {},
   "outputs": [],
   "source": [
    "def calcFitness(population):\n",
    "    fitness = 0\n",
    "    for route in population.routes:\n",
    "        route.calcFitness()\n",
    "        fitness += route.fitness\n",
    "    return fitness"
   ]
  },
  {
   "cell_type": "markdown",
   "id": "close-setting",
   "metadata": {},
   "source": [
    "#### Selection"
   ]
  },
  {
   "cell_type": "markdown",
   "id": "individual-concentration",
   "metadata": {},
   "source": [
    "roulette wheel, slika (od zmije)"
   ]
  },
  {
   "cell_type": "code",
   "execution_count": null,
   "id": "nuclear-moisture",
   "metadata": {},
   "outputs": [],
   "source": [
    "def select_parent(population):\n",
    "    rand = random.randint(0, population.fitness)\n",
    "        sum = 0\n",
    "        for route in population.routes\n",
    "            sum += route.fitness\n",
    "            if sum >= rand:\n",
    "                return route"
   ]
  },
  {
   "cell_type": "markdown",
   "id": "turkish-claim",
   "metadata": {},
   "source": [
    "#### Crossover"
   ]
  },
  {
   "cell_type": "markdown",
   "id": "unlikely-suspension",
   "metadata": {},
   "source": [
    "napraviti sliku"
   ]
  },
  {
   "cell_type": "code",
   "execution_count": null,
   "id": "detailed-insulation",
   "metadata": {},
   "outputs": [],
   "source": [
    "def crossover(parent1, parent2):\n",
    "    child = Route(num_of_cities, self.map)\n",
    "    gene1 = random.randint(0, num_of_cities)\n",
    "    gene2 = random.randint(0, num_of_cities)\n",
    "\n",
    "    start = min(gene1, gene2)\n",
    "    end = max(gene1, gene2) + 1\n",
    "\n",
    "    child.path[start:end] = parent1.path[start:end]\n",
    "    child.path[:start] = child.path[end:] = -1\n",
    "\n",
    "    for gene in parent2.path:\n",
    "        if gene not in child.path:\n",
    "            for i in range(self.num_of_cities):\n",
    "                if child.path[i] == -1:\n",
    "                    child.path[i] = gene\n",
    "                    break\n",
    "        return child"
   ]
  },
  {
   "cell_type": "markdown",
   "id": "flush-sussex",
   "metadata": {},
   "source": [
    "#### Mutacija"
   ]
  },
  {
   "cell_type": "markdown",
   "id": "stunning-silicon",
   "metadata": {},
   "source": [
    "stopa mutacije bla bla"
   ]
  },
  {
   "cell_type": "code",
   "execution_count": null,
   "id": "absent-bikini",
   "metadata": {},
   "outputs": [],
   "source": [
    "def mutate(route, mutation_ratre): \n",
    "        for i in range(route.num_of_cities):\n",
    "            if random.random() < mutation_rate:\n",
    "                j = random.randrange(0, route.num_of_cities)\n",
    "                route.path[i], route.path[j] = route.path[j], route.path[i]"
   ]
  },
  {
   "cell_type": "markdown",
   "id": "alleged-steal",
   "metadata": {},
   "source": [
    "#### Cijeli gen algoritam"
   ]
  },
  {
   "cell_type": "code",
   "execution_count": null,
   "id": "falling-basin",
   "metadata": {},
   "outputs": [],
   "source": [
    "def geneticAlgorithm(population, mutation_rate):\n",
    "    population.find_best_route()\n",
    "    new_routes = [population.best_route.clone()]\n",
    "    for i in range(self.num_of_routes):\n",
    "        parent1 = select_parent(population)\n",
    "        parent2 = select_parent(population)\n",
    "        child = crossover(parent1, parent2)\n",
    "        child = mutate(child, mutation rate)\n",
    "        new_routes.append(child)\n",
    "    return new_routes"
   ]
  },
  {
   "cell_type": "markdown",
   "id": "resistant-concrete",
   "metadata": {},
   "source": [
    "Main funkcija"
   ]
  },
  {
   "cell_type": "code",
   "execution_count": null,
   "id": "labeled-regard",
   "metadata": {},
   "outputs": [],
   "source": [
    "def travel(num_of_routes, mutation_rate, num_of_generations, map):\n",
    "    population = Population(num_of_routes, map.num_of_cities, map)\n",
    "    #map.draw_coordinates()\n",
    "    for i in range(num_of_generations):\n",
    "        population.fitness = calcFitness(population)\n",
    "        population.routes = geneticAlgorithm(population, mutation_rate)\n",
    "         #možda iscrtaj svaku iteraciju (svaku 50 ili 10 ili ...)???\n",
    "    population.draw_distances_in_generation() \n",
    "    #iscrtaj put na grafu, ispiši duljinu\n",
    "    "
   ]
  },
  {
   "cell_type": "markdown",
   "id": "listed-timothy",
   "metadata": {},
   "source": [
    "Pokretanje"
   ]
  },
  {
   "cell_type": "code",
   "execution_count": null,
   "id": "fluid-original",
   "metadata": {},
   "outputs": [],
   "source": [
    "travel(100, 0.1, 500, map) #dodati widgetse"
   ]
  },
  {
   "cell_type": "markdown",
   "id": "clinical-pixel",
   "metadata": {},
   "source": [
    "Graf kretanja udaljenosti"
   ]
  },
  {
   "cell_type": "code",
   "execution_count": null,
   "id": "sensitive-newton",
   "metadata": {},
   "outputs": [],
   "source": [
    "def draw_distance_over_iterations(population):\n",
    "    fig, ax = plt.subplots()\n",
    "    ax.set_title('Distance over generations')\n",
    "    ax.set_xlabel('Generation')\n",
    "    ax.set_ylabel('Distance')\n",
    "    x = np.arange(1, population.num_of_generations+1)\n",
    "    ax.plot(x, population.best_distance_in_generation)\n",
    "    fig"
   ]
  },
  {
   "cell_type": "markdown",
   "id": "individual-entity",
   "metadata": {},
   "source": [
    "Moji spremljeni i učitani podaci, s npr 5000 generacija (iscrtaj put i graf udaljenosti), ili random ili stvarni podaci ili oboje"
   ]
  },
  {
   "cell_type": "markdown",
   "id": "vocal-occasions",
   "metadata": {},
   "source": [
    "Primjer sa stvarnim gradovima i koordinatama (odaberi random gradove, iscrtaj kartu s imenima, graf udaljenosti)"
   ]
  },
  {
   "cell_type": "markdown",
   "id": "rental-family",
   "metadata": {},
   "source": [
    "# Bibliografija\n",
    "1. https://www.theprojectspot.com/tutorial-post/applying-a-genetic-algorithm-to-the-travelling-salesman-problem/5\n",
    "2. https://simplemaps.com/data/world-cities\n",
    "3. ono kaj sam imala za zmiju"
   ]
  }
 ],
 "metadata": {
  "kernelspec": {
   "display_name": "Python 3",
   "language": "python",
   "name": "python3"
  },
  "language_info": {
   "codemirror_mode": {
    "name": "ipython",
    "version": 3
   },
   "file_extension": ".py",
   "mimetype": "text/x-python",
   "name": "python",
   "nbconvert_exporter": "python",
   "pygments_lexer": "ipython3",
   "version": "3.7.10"
  }
 },
 "nbformat": 4,
 "nbformat_minor": 5
}
