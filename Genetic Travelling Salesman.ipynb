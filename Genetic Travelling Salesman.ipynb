{
 "cells": [
  {
   "cell_type": "markdown",
   "id": "loving-giant",
   "metadata": {},
   "source": [
    "# Rješavanje problema trgovačkog putnika koristeći genetički algoritam"
   ]
  },
  {
   "cell_type": "markdown",
   "id": "neither-reference",
   "metadata": {},
   "source": [
    "### Nešt o trgovačkom putniku"
   ]
  },
  {
   "cell_type": "markdown",
   "id": "funny-understanding",
   "metadata": {},
   "source": [
    "### Gen algoritam\n",
    "Možda da stavljam kod kak objašnjavam algoritam??"
   ]
  },
  {
   "cell_type": "markdown",
   "id": "conservative-shame",
   "metadata": {},
   "source": [
    "Korišteni moduli:"
   ]
  },
  {
   "cell_type": "code",
   "execution_count": 1,
   "id": "qualified-convert",
   "metadata": {},
   "outputs": [],
   "source": [
    "import numpy as np\n",
    "import random\n",
    "import math\n",
    "import networkx as nx #možda staviti poslije\n",
    "import pandas as pd #možda staviti na kraj\n",
    "import matplotlib.pyplot as plt #možda poslije"
   ]
  },
  {
   "cell_type": "markdown",
   "id": "educational-output",
   "metadata": {},
   "source": [
    "Klasa Map koja predstavlja graf s gradovima"
   ]
  },
  {
   "cell_type": "code",
   "execution_count": null,
   "id": "compliant-cowboy",
   "metadata": {},
   "outputs": [],
   "source": [
    "class Map():\n",
    "    def __init__(self, n):\n",
    "        self.num_of_cities = n\n",
    "        self.xy = np.empty((n,2))\n",
    "        for i in range(n):\n",
    "            self.xy[i] = random.randint(0, 500), random.randint(0,500)\n",
    "        self.distances = self.calculate_distances()\n",
    "        \n",
    "\n",
    "    def calculate_distances():\n",
    "        distances = np.empty((self.num_of_cities, self.num_of_cities))\n",
    "        for i in range(self.num_of_cities):\n",
    "            p = self.xy[i]\n",
    "            for j in range(self.num_of_cities):\n",
    "                q = self.xy[j]\n",
    "                distances[i][j] = math.dist(p,q)\n",
    "        return distances\n",
    "    \n",
    "    def draw_graph():\n",
    "\n",
    "    def draw_coordinate():"
   ]
  },
  {
   "cell_type": "markdown",
   "id": "capital-tunnel",
   "metadata": {},
   "source": [
    "Klasa populacija"
   ]
  },
  {
   "cell_type": "code",
   "execution_count": null,
   "id": "diverse-guinea",
   "metadata": {},
   "outputs": [],
   "source": []
  },
  {
   "cell_type": "markdown",
   "id": "banned-harrison",
   "metadata": {},
   "source": [
    "Klasa ruta"
   ]
  },
  {
   "cell_type": "code",
   "execution_count": null,
   "id": "suitable-partner",
   "metadata": {},
   "outputs": [],
   "source": []
  },
  {
   "cell_type": "markdown",
   "id": "sharp-determination",
   "metadata": {},
   "source": [
    "Main funkcija"
   ]
  },
  {
   "cell_type": "code",
   "execution_count": null,
   "id": "polyphonic-software",
   "metadata": {},
   "outputs": [],
   "source": []
  },
  {
   "cell_type": "markdown",
   "id": "eleven-vintage",
   "metadata": {},
   "source": [
    "Primjer sa stvarnim gradovima i koordinatama"
   ]
  },
  {
   "cell_type": "code",
   "execution_count": null,
   "id": "saved-project",
   "metadata": {},
   "outputs": [],
   "source": []
  },
  {
   "cell_type": "markdown",
   "id": "built-logic",
   "metadata": {},
   "source": [
    "# Bibliografija\n",
    "1. https://www.theprojectspot.com/tutorial-post/applying-a-genetic-algorithm-to-the-travelling-salesman-problem/5\n",
    "2. https://simplemaps.com/data/world-cities\n",
    "3. ono kaj sam imala za zmiju"
   ]
  }
 ],
 "metadata": {
  "kernelspec": {
   "display_name": "Python 3",
   "language": "python",
   "name": "python3"
  },
  "language_info": {
   "codemirror_mode": {
    "name": "ipython",
    "version": 3
   },
   "file_extension": ".py",
   "mimetype": "text/x-python",
   "name": "python",
   "nbconvert_exporter": "python",
   "pygments_lexer": "ipython3",
   "version": "3.7.10"
  }
 },
 "nbformat": 4,
 "nbformat_minor": 5
}
