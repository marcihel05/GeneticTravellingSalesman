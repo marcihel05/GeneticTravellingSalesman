{
 "cells": [
  {
   "cell_type": "markdown",
   "id": "loving-giant",
   "metadata": {},
   "source": [
    "# Rješavanje problema trgovačkog putnika koristeći genetički algoritam"
   ]
  },
  {
   "cell_type": "markdown",
   "id": "dress-woman",
   "metadata": {},
   "source": [
    "### Nešt o trgovačkom putniku"
   ]
  },
  {
   "cell_type": "markdown",
   "id": "banned-warren",
   "metadata": {},
   "source": [
    "Korišteni moduli"
   ]
  },
  {
   "cell_type": "code",
   "execution_count": 2,
   "id": "sorted-gates",
   "metadata": {},
   "outputs": [],
   "source": [
    "import numpy as np\n",
    "import random\n",
    "import math\n",
    "import networkx as nx #možda staviti poslije\n",
    "import pandas as pd #možda staviti na kraj\n",
    "import matplotlib.pyplot as plt #možda poslije\n",
    "plt.rcParams['figure.figsize'] = [8, 8]"
   ]
  },
  {
   "cell_type": "markdown",
   "id": "promising-community",
   "metadata": {},
   "source": [
    "Klasa Map koja predstavlja graf s gradovima"
   ]
  },
  {
   "cell_type": "code",
   "execution_count": 14,
   "id": "sustainable-transsexual",
   "metadata": {},
   "outputs": [],
   "source": [
    "class Map():\n",
    "    def __init__(self, n):\n",
    "        self.num_of_cities = n\n",
    "        self.xy = np.empty((n,2))\n",
    "        for i in range(n):\n",
    "            self.xy[i] = random.uniform(0, 200), random.uniform(0,200)\n",
    "        self.distances = self.calculate_distances()\n",
    "        \n",
    "\n",
    "    def calculate_distances(self):\n",
    "        distances = np.empty((self.num_of_cities, self.num_of_cities))\n",
    "        for i in range(self.num_of_cities):\n",
    "            p = self.xy[i]\n",
    "            for j in range(self.num_of_cities):\n",
    "                q = self.xy[j]\n",
    "                distances[i][j] = math.sqrt((p[0]-q[0])**2+(p[1]-q[1])**2)\n",
    "        return distances\n",
    "    \n",
    "    def make_graph(self):\n",
    "        G = nx.complete_graph(self.num_of_cities)\n",
    "        #plt.subplot()\n",
    "        plt.figure(figsize=(12,12))\n",
    "        nx.draw(G, with_labels=True)\n",
    "        \n",
    "    \n",
    "    def draw_graph(self):\n",
    "        fig, ax1 = plt.subplots()\n",
    "        ax1.set_title('Cities')\n",
    "        ax1.scatter(self.xy[:,0], self.xy[:, 1], color = 'black')\n",
    "\n",
    "        fig\n",
    "        "
   ]
  },
  {
   "cell_type": "markdown",
   "id": "attempted-trouble",
   "metadata": {},
   "source": [
    "Inicijalizacija mape"
   ]
  },
  {
   "cell_type": "code",
   "execution_count": 16,
   "id": "sexual-police",
   "metadata": {},
   "outputs": [
    {
     "data": {
      "image/png": "[encoded data removed]",
      "text/plain": [
       "<Figure size 576x576 with 1 Axes>"
      ]
     },
     "metadata": {
      "needs_background": "light"
     },
     "output_type": "display_data"
    }
   ],
   "source": [
    "num_of_cities = 50\n",
    "map = Map(num_of_cities)\n",
    "map.draw_graph()"
   ]
  },
  {
   "cell_type": "code",
   "execution_count": null,
   "id": "matched-compatibility",
   "metadata": {},
   "outputs": [],
   "source": [
    "map.make_graph()"
   ]
  },
  {
   "cell_type": "markdown",
   "id": "treated-garden",
   "metadata": {},
   "source": [
    "### Gen algoritam\n",
    "Genetički algoritmi vrsta su algoritama koji pripadaju klasi evolucijskih algoritama inspiriranih biološkom evolucijom. Ideja genetičkih algoritama in spirirana je teorijom evolucije Charlesa Darwina, odnosno biološkim pojavama poput prirodne selekcije, križanja koromosoma te mutacijama.\n",
    "Genetički algoritmi najčešće se koriste za optimizaciju, tj. tražanje najboljeg\n",
    "rješenja. Primjenjuju se u matematici i računarstvu, medicini, biologiji, forenzici, svemirskoj tehnologiji...\n",
    "Glavni dijelovi genetičkog algoritma su inicijalizacija populacije, selekcija, crossover i mutacija. Selekcija, križanje i mutacija nazivaju se i genetički operatori. Za genetički algoritam poptrebni su još i stopa mutacije i fitness funkcija."
   ]
  },
  {
   "cell_type": "code",
   "execution_count": 21,
   "id": "collectible-acoustic",
   "metadata": {},
   "outputs": [],
   "source": [
    "num_of_routes = 25\n",
    "num_of_generations = 1000"
   ]
  },
  {
   "cell_type": "markdown",
   "id": "academic-symphony",
   "metadata": {},
   "source": [
    "Klasa ruta"
   ]
  },
  {
   "cell_type": "code",
   "execution_count": 22,
   "id": "constant-cloud",
   "metadata": {},
   "outputs": [],
   "source": [
    "class Route():\n",
    "    def __init__(self, n, graph):\n",
    "        self.num_of_cities = n\n",
    "        self.fitness = 0\n",
    "        self.distance = 0\n",
    "        self.map = graph\n",
    "        self.path = np.random.permutation(self.num_of_cities)\n",
    "\n",
    "    def calcDistance(self):\n",
    "        for i in range(self.num_of_cities-1):\n",
    "            self.distance += self.map.distances[self.path[i]][self.path[i+1]]\n",
    "        self.distance += self.map.distances[self.path[0]][self.path[self.num_of_cities-1]]\n",
    "\n",
    "    def calcFitness(self):\n",
    "        self.calcDistance()\n",
    "        self.fitness = 1/self.distance\n",
    "\n",
    "    def clone(self):\n",
    "        new_route = Route(self.num_of_cities, self.map)\n",
    "        new_route.path = self.path\n",
    "        return new_route\n",
    "        "
   ]
  },
  {
   "cell_type": "markdown",
   "id": "proud-remedy",
   "metadata": {},
   "source": [
    "#### Populacija i jedinke"
   ]
  },
  {
   "cell_type": "code",
   "execution_count": 23,
   "id": "living-grade",
   "metadata": {},
   "outputs": [],
   "source": [
    "class  Population():\n",
    "    def __init__(self, n, m, map):\n",
    "        self.map = map\n",
    "        self.num_of_routes = n\n",
    "        self.num_of_cities = m\n",
    "        self.routes = [Route(m,map) for i in range(n)]\n",
    "        self.fitness = 0\n",
    "        self.best_distance_in_generation = []\n",
    "        self.best_route = \"\"\n",
    "\n",
    "    def find_best_route(self):\n",
    "        best_route = max(self.routes, key = lambda r: r.fitness)\n",
    "        self.best_distance_in_generation.append(best_route.distance)\n",
    "        self.best_route = best_route.clone()\n",
    "        self.best_route.distance = best_route.distance"
   ]
  },
  {
   "cell_type": "markdown",
   "id": "broadband-shade",
   "metadata": {},
   "source": [
    "Fitness funkcija"
   ]
  },
  {
   "cell_type": "code",
   "execution_count": 24,
   "id": "chinese-record",
   "metadata": {},
   "outputs": [],
   "source": [
    "def calcFitness(population):\n",
    "    fitness = 0\n",
    "    for route in population.routes:\n",
    "        route.calcFitness()\n",
    "        fitness += route.fitness\n",
    "    return fitness"
   ]
  },
  {
   "cell_type": "markdown",
   "id": "blond-burke",
   "metadata": {},
   "source": [
    "#### Selection"
   ]
  },
  {
   "cell_type": "markdown",
   "id": "falling-criticism",
   "metadata": {},
   "source": [
    "roulette wheel, slika (od zmije)"
   ]
  },
  {
   "cell_type": "code",
   "execution_count": 25,
   "id": "outer-savings",
   "metadata": {},
   "outputs": [],
   "source": [
    "def select_parent(population):\n",
    "    rand = random.uniform(0, population.fitness)\n",
    "    sum = 0\n",
    "    for route in population.routes:\n",
    "        sum += route.fitness\n",
    "        if sum >= rand:\n",
    "            return route"
   ]
  },
  {
   "cell_type": "markdown",
   "id": "viral-method",
   "metadata": {},
   "source": [
    "#### Crossover"
   ]
  },
  {
   "cell_type": "markdown",
   "id": "modular-ability",
   "metadata": {},
   "source": [
    "napraviti sliku"
   ]
  },
  {
   "cell_type": "code",
   "execution_count": 26,
   "id": "brilliant-airport",
   "metadata": {},
   "outputs": [],
   "source": [
    "def crossover(parent1, parent2):\n",
    "    child = Route(parent1.num_of_cities, parent1.map)\n",
    "    gene1 = random.randint(0, parent1.num_of_cities)\n",
    "    gene2 = random.randint(0, parent1.num_of_cities)\n",
    "\n",
    "    start = min(gene1, gene2)\n",
    "    end = max(gene1, gene2) + 1\n",
    "\n",
    "    child.path[start:end] = parent1.path[start:end]\n",
    "    child.path[:start] = child.path[end:] = -1\n",
    "\n",
    "    for gene in parent2.path:\n",
    "        if gene not in child.path:\n",
    "            for i in range(child.num_of_cities):\n",
    "                if child.path[i] == -1:\n",
    "                    child.path[i] = gene\n",
    "                    break\n",
    "    return child"
   ]
  },
  {
   "cell_type": "markdown",
   "id": "posted-monitor",
   "metadata": {},
   "source": [
    "#### Mutacija"
   ]
  },
  {
   "cell_type": "markdown",
   "id": "cutting-darwin",
   "metadata": {},
   "source": [
    "stopa mutacije bla bla"
   ]
  },
  {
   "cell_type": "code",
   "execution_count": 27,
   "id": "referenced-angola",
   "metadata": {},
   "outputs": [],
   "source": [
    "def mutate(route, mutation_rate):\n",
    "    for i in range(route.num_of_cities):\n",
    "        if random.random() < mutation_rate:\n",
    "            j = random.randrange(0, route.num_of_cities)\n",
    "            route.path[i], route.path[j] = route.path[j], route.path[i]\n",
    "    return route"
   ]
  },
  {
   "cell_type": "markdown",
   "id": "national-salon",
   "metadata": {},
   "source": [
    "#### Cijeli gen algoritam"
   ]
  },
  {
   "cell_type": "code",
   "execution_count": 28,
   "id": "minimal-norway",
   "metadata": {},
   "outputs": [],
   "source": [
    "def geneticAlgorithm(population, mutation_rate):\n",
    "    new_routes = [population.best_route.clone()]\n",
    "    for i in range(population.num_of_routes):\n",
    "        parent1 = select_parent(population)\n",
    "        parent2 = select_parent(population)\n",
    "        child = crossover(parent1, parent2)\n",
    "        child = mutate(child, mutation_rate)\n",
    "        new_routes.append(child)\n",
    "    return new_routes"
   ]
  },
  {
   "cell_type": "code",
   "execution_count": 34,
   "id": "damaged-intensity",
   "metadata": {},
   "outputs": [],
   "source": [
    "def draw_distances_in_generation(distances, num_of_generations):\n",
    "    fig, ax = plt.subplots()\n",
    "    ax.set_title('Distance over generations')\n",
    "    ax.set_xlabel('Generation')\n",
    "    ax.set_ylabel('Distance')\n",
    "    x = np.arange(1, num_of_generations+1)\n",
    "    ax.plot(x, distances)\n",
    "    fig"
   ]
  },
  {
   "cell_type": "markdown",
   "id": "expensive-thumb",
   "metadata": {},
   "source": [
    "Main funkcija"
   ]
  },
  {
   "cell_type": "code",
   "execution_count": 29,
   "id": "scheduled-freight",
   "metadata": {},
   "outputs": [],
   "source": [
    "def travel(num_of_routes, mutation_rate, num_of_generations, map):\n",
    "    population = Population(num_of_routes, num_of_cities, map)\n",
    "    for i in range(num_of_generations):\n",
    "        population.fitness = calcFitness(population)\n",
    "        population.find_best_route()\n",
    "        population.routes = geneticAlgorithm(population, mutation_rate)\n",
    "         #možda iscrtaj svaku iteraciju (svaku 50 ili 10 ili ...)???\n",
    "    return population.best_route.path, population.best_distance_in_generation, population.best_route.distance"
   ]
  },
  {
   "cell_type": "markdown",
   "id": "alert-inspector",
   "metadata": {},
   "source": [
    "Pokretanje"
   ]
  },
  {
   "cell_type": "code",
   "execution_count": null,
   "id": "persistent-waterproof",
   "metadata": {},
   "outputs": [],
   "source": [
    "path, distances, distance = travel(num_of_routes, 0.1, num_of_generations, map) #dodati widgetse"
   ]
  },
  {
   "cell_type": "code",
   "execution_count": 30,
   "id": "separate-monster",
   "metadata": {},
   "outputs": [],
   "source": [
    "def draw_path(map, path):\n",
    "    x = [map.xy[i][0] for i in path]\n",
    "    x.append(map.xy[path[0]][0])\n",
    "    y = [map.xy[i][1] for i in path]\n",
    "    y.append(map.xy[path[0]][1])\n",
    "    fig, ax = plt.subplots()\n",
    "    ax.set_title('Best route')\n",
    "    ax.plot(x,y, marker = 'o', color = 'orange', markeredgecolor = 'black', markerfacecolor = 'black')"
   ]
  },
  {
   "cell_type": "code",
   "execution_count": null,
   "id": "amended-extraction",
   "metadata": {},
   "outputs": [],
   "source": [
    "draw_distances_in_generation(distances, num_of_generations)\n",
    "distance"
   ]
  },
  {
   "cell_type": "code",
   "execution_count": null,
   "id": "formal-defendant",
   "metadata": {},
   "outputs": [],
   "source": [
    "draw_path(map, path)"
   ]
  },
  {
   "cell_type": "markdown",
   "id": "intermediate-japanese",
   "metadata": {},
   "source": [
    "Moji spremljeni i učitani podaci, s npr 100 000 generacija (iscrtaj put i graf udaljenosti), ili random ili stvarni podaci ili oboje, gradovi u krug (da je očiti najkraći put)ab"
   ]
  },
  {
   "cell_type": "code",
   "execution_count": null,
   "id": "needed-affiliation",
   "metadata": {},
   "outputs": [],
   "source": [
    "num_of_generations = 100000\n",
    "xy = np.zeros((num_of_cities,2))\n",
    "x = np.linspace(0, 2*math.pi, num_of_cities)\n",
    "i = 0\n",
    "for t in x:\n",
    "    xy[i] = math.cos(t), math.sin(t)\n",
    "    i += 1\n",
    "map.xy = xy\n",
    "map.distances = map.calculate_distances()\n",
    "\n",
    "path, distances, distance = travel(num_of_routes, 0.1, num_of_generations, map)\n"
   ]
  },
  {
   "cell_type": "code",
   "execution_count": null,
   "id": "linear-skirt",
   "metadata": {
    "scrolled": true
   },
   "outputs": [],
   "source": [
    "draw_distances_in_generation(distances, num_of_generations)\n",
    "distance"
   ]
  },
  {
   "cell_type": "code",
   "execution_count": null,
   "id": "pursuant-peoples",
   "metadata": {
    "scrolled": true
   },
   "outputs": [],
   "source": [
    "draw_path(map, path)"
   ]
  },
  {
   "cell_type": "code",
   "execution_count": 31,
   "id": "younger-pizza",
   "metadata": {},
   "outputs": [
    {
     "data": {
      "image/png": "[encoded data removed]",
      "text/plain": [
       "<Figure size 576x576 with 1 Axes>"
      ]
     },
     "metadata": {
      "needs_background": "light"
     },
     "output_type": "display_data"
    }
   ],
   "source": [
    "map.xy = np.loadtxt('uscap_xy.txt')\n",
    "map.draw_graph()"
   ]
  },
  {
   "cell_type": "code",
   "execution_count": 41,
   "id": "spare-judgment",
   "metadata": {},
   "outputs": [],
   "source": [
    "num_of_generations = 5000\n",
    "path, distances, distance = travel(num_of_routes, 0.1, num_of_generations, map)"
   ]
  },
  {
   "cell_type": "code",
   "execution_count": 42,
   "id": "printable-keeping",
   "metadata": {
    "scrolled": true
   },
   "outputs": [
    {
     "data": {
      "image/png": "[encoded data removed]",
      "text/plain": [
       "<Figure size 576x576 with 1 Axes>"
      ]
     },
     "metadata": {
      "needs_background": "light"
     },
     "output_type": "display_data"
    }
   ],
   "source": [
    "draw_distances_in_generation(distances, num_of_generations)"
   ]
  },
  {
   "cell_type": "code",
   "execution_count": 43,
   "id": "expired-output",
   "metadata": {
    "scrolled": true
   },
   "outputs": [
    {
     "data": {
      "image/png": "[encoded data removed]",
      "text/plain": [
       "<Figure size 576x576 with 1 Axes>"
      ]
     },
     "metadata": {
      "needs_background": "light"
     },
     "output_type": "display_data"
    }
   ],
   "source": [
    "draw_path(map, path)"
   ]
  },
  {
   "cell_type": "markdown",
   "id": "suitable-dodge",
   "metadata": {},
   "source": [
    "ispis gradova prvi_ime -> drugi_ime -> ... -> pedeseti_ime"
   ]
  },
  {
   "cell_type": "markdown",
   "id": "copyrighted-variation",
   "metadata": {},
   "source": [
    "Primjer sa stvarnim gradovima i koordinatama (odaberi random gradove, iscrtaj kartu s imenima, graf udaljenosti)"
   ]
  },
  {
   "cell_type": "markdown",
   "id": "moderate-swift",
   "metadata": {},
   "source": [
    "# Bibliografija\n",
    "1. https://www.theprojectspot.com/tutorial-post/applying-a-genetic-algorithm-to-the-travelling-salesman-problem/5\n",
    "2. https://simplemaps.com/data/world-cities\n",
    "3. https://towardsdatascience.com/genetic-algorithm-explained-step-by-step-65358abe2bf\n",
    "4. https://en.wikipedia.org/wiki/Genetic_algorithm"
   ]
  },
  {
   "cell_type": "code",
   "execution_count": null,
   "id": "mysterious-click",
   "metadata": {},
   "outputs": [],
   "source": []
  }
 ],
 "metadata": {
  "kernelspec": {
   "display_name": "Python 3",
   "language": "python",
   "name": "python3"
  },
  "language_info": {
   "codemirror_mode": {
    "name": "ipython",
    "version": 3
   },
   "file_extension": ".py",
   "mimetype": "text/x-python",
   "name": "python",
   "nbconvert_exporter": "python",
   "pygments_lexer": "ipython3",
   "version": "3.7.10"
  }
 },
 "nbformat": 4,
 "nbformat_minor": 5
}
